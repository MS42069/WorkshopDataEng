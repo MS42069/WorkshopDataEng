{
 "cells": [
  {
   "cell_type": "code",
   "id": "initial_id",
   "metadata": {
    "collapsed": true,
    "ExecuteTime": {
     "end_time": "2024-12-22T18:26:04.171024Z",
     "start_time": "2024-12-22T18:26:03.708699Z"
    }
   },
   "source": [
    "import psycopg2\n",
    "import pandas as pd\n",
    "\n",
    "def connect_to_db():\n",
    "    \"\"\"\n",
    "    Verbindung zur PostgreSQL-Datenbank herstellen\n",
    "    \"\"\"\n",
    "    try:\n",
    "        conn = psycopg2.connect(\n",
    "            dbname=\"postgres\",  # Ersetze mit dem tatsächlichen Datenbanknamen\n",
    "            user=\"postgres\",       # Ersetze mit deinem Benutzernamen\n",
    "            password=\"password\",       # Ersetze mit deinem Passwort\n",
    "            host=\"localhost\",      # Hostname (z.B. localhost oder Container-IP)\n",
    "            port=5432               # Port (Standard: 5432)\n",
    "        )\n",
    "        print(\"Verbindung erfolgreich!\")\n",
    "        return conn\n",
    "    except psycopg2.OperationalError as e:\n",
    "        print(\"Fehler beim Verbinden:\", e)\n",
    "        return None\n",
    "\n",
    "def get_table_columns(conn):\n",
    "    \"\"\"\n",
    "    Gibt eine Übersicht aller Spalten für jede Tabelle in der Datenbank\n",
    "    :param conn: Datenbankverbindung\n",
    "    \"\"\"\n",
    "    try:\n",
    "        query = \"\"\"\n",
    "        SELECT table_name, column_name, data_type\n",
    "        FROM information_schema.columns\n",
    "        WHERE table_schema = 'public'\n",
    "        ORDER BY table_name, ordinal_position;\n",
    "        \"\"\"\n",
    "        df = pd.read_sql_query(query, conn)\n",
    "        print(\"Übersicht der Tabellen und Spalten gespeichert\")\n",
    "        print(df)\n",
    "        return df\n",
    "    except Exception as e:\n",
    "        print(\"Fehler beim Abrufen der Tabellen und Spalten:\", e)\n",
    "        return None\n",
    "\n",
    "def main():\n",
    "    # Verbindung herstellen\n",
    "    conn = connect_to_db()\n",
    "\n",
    "    if conn:\n",
    "        # Übersicht der Tabellen und Spalten abrufen\n",
    "        table_columns = get_table_columns(conn)\n",
    "\n",
    "        # Optional: Ergebnis in eine CSV-Datei speichern\n",
    "        if table_columns is not None:\n",
    "            table_columns.to_csv(\"table_columns_overview.csv\", index=False)\n",
    "            print(\"Übersicht wurde in 'table_columns_overview.csv' gespeichert.\")\n",
    "\n",
    "        # Verbindung schließen\n",
    "        conn.close()\n",
    "        print(\"Verbindung geschlossen.\")\n",
    "\n",
    "if __name__ == \"__main__\":\n",
    "    main()\n"
   ],
   "outputs": [
    {
     "name": "stdout",
     "output_type": "stream",
     "text": [
      "Verbindung erfolgreich!\n",
      "Übersicht der Tabellen und Spalten:\n",
      "                          table_name            column_name          data_type\n",
      "0         breaks_between_constraints                     id               uuid\n",
      "1         breaks_between_constraints       constraint_value  character varying\n",
      "2         breaks_between_constraints  employee_abbreviation  character varying\n",
      "3         breaks_between_constraints            is_accepted            boolean\n",
      "4    course_distribution_constraints                     id               uuid\n",
      "..                               ...                    ...                ...\n",
      "132            week_events_timeslots            timeslot_id               uuid\n",
      "133                        worktimes                     id               uuid\n",
      "134                        worktimes                weekday  character varying\n",
      "135                        worktimes         fk_employee_id               uuid\n",
      "136                        worktimes         fk_timeslot_id               uuid\n",
      "\n",
      "[137 rows x 3 columns]\n",
      "Übersicht wurde in 'table_columns_overview.csv' gespeichert.\n",
      "Verbindung geschlossen.\n"
     ]
    },
    {
     "name": "stderr",
     "output_type": "stream",
     "text": [
      "WARNING:  database \"postgres\" has a collation version mismatch\n",
      "DETAIL:  The database was created using collation version 2.31, but the operating system provides version 2.36.\n",
      "HINT:  Rebuild all objects in this database that use the default collation and run ALTER DATABASE postgres REFRESH COLLATION VERSION, or build PostgreSQL with the right library version.\n",
      "/var/folders/v8/4k7nmd7x4v9cl4_xd6606f0w0000gp/T/ipykernel_63066/143339356.py:34: UserWarning: pandas only supports SQLAlchemy connectable (engine/connection) or database string URI or sqlite3 DBAPI2 connection. Other DBAPI2 objects are not tested. Please consider using SQLAlchemy.\n",
      "  df = pd.read_sql_query(query, conn)\n"
     ]
    }
   ],
   "execution_count": 1
  },
  {
   "metadata": {},
   "cell_type": "code",
   "outputs": [],
   "execution_count": null,
   "source": "",
   "id": "907b9df6ed591bca"
  }
 ],
 "metadata": {
  "kernelspec": {
   "display_name": "Python 3",
   "language": "python",
   "name": "python3"
  },
  "language_info": {
   "codemirror_mode": {
    "name": "ipython",
    "version": 2
   },
   "file_extension": ".py",
   "mimetype": "text/x-python",
   "name": "python",
   "nbconvert_exporter": "python",
   "pygments_lexer": "ipython2",
   "version": "2.7.6"
  }
 },
 "nbformat": 4,
 "nbformat_minor": 5
}
